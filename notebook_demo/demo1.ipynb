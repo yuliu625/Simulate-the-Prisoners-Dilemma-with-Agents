{
 "cells": [
  {
   "metadata": {
    "ExecuteTime": {
     "end_time": "2025-02-19T06:31:42.906002Z",
     "start_time": "2025-02-19T06:31:41.092394Z"
    }
   },
   "cell_type": "code",
   "source": [
    "from autogen_ext.models.openai import OpenAIChatCompletionClient\n",
    "import os"
   ],
   "id": "e727779d16c83004",
   "outputs": [],
   "execution_count": 1
  },
  {
   "cell_type": "code",
   "id": "initial_id",
   "metadata": {
    "collapsed": true,
    "ExecuteTime": {
     "end_time": "2025-02-19T06:32:15.314295Z",
     "start_time": "2025-02-19T06:32:14.445843Z"
    }
   },
   "source": [
    "model_client = OpenAIChatCompletionClient(\n",
    "        model='qwen2.5-1.5b-instruct',\n",
    "        base_url=os.environ['OPENAI_COMPATIBILITY_API_BASE_URL'],\n",
    "        api_key=os.environ['OPENAI_COMPATIBILITY_API_KEY'],\n",
    "        model_info={\n",
    "            \"vision\": False,\n",
    "            \"function_calling\": True,\n",
    "            \"json_output\": False,\n",
    "            \"family\": 'unknown',\n",
    "        },\n",
    "    )"
   ],
   "outputs": [],
   "execution_count": 7
  },
  {
   "metadata": {
    "ExecuteTime": {
     "end_time": "2025-02-19T06:31:43.723785Z",
     "start_time": "2025-02-19T06:31:43.700653Z"
    }
   },
   "cell_type": "code",
   "source": "from game.agents import Participant",
   "id": "a368c6a06ace8991",
   "outputs": [],
   "execution_count": 3
  },
  {
   "metadata": {
    "ExecuteTime": {
     "end_time": "2025-02-19T06:31:43.728963Z",
     "start_time": "2025-02-19T06:31:43.723785Z"
    }
   },
   "cell_type": "code",
   "source": [
    "from autogen_core import SingleThreadedAgentRuntime\n",
    "from autogen_core import AgentId"
   ],
   "id": "1448370bc6730f0d",
   "outputs": [],
   "execution_count": 4
  },
  {
   "metadata": {
    "ExecuteTime": {
     "end_time": "2025-02-19T06:31:43.734824Z",
     "start_time": "2025-02-19T06:31:43.730805Z"
    }
   },
   "cell_type": "code",
   "source": "from game.protocols import ManagerRequest, ParticipantChoice",
   "id": "9b0bacf8d76a8f",
   "outputs": [],
   "execution_count": 5
  },
  {
   "metadata": {
    "ExecuteTime": {
     "end_time": "2025-02-19T06:47:29.261279Z",
     "start_time": "2025-02-19T06:47:11.215932Z"
    }
   },
   "cell_type": "code",
   "source": [
    "runtime = SingleThreadedAgentRuntime()\n",
    "await Participant.register(\n",
    "    runtime,\n",
    "    type='participant',\n",
    "    factory=lambda: Participant('试验的参与者。', model_client)\n",
    ")\n",
    "runtime.start()\n",
    "response = await runtime.send_message(\n",
    "    message=ManagerRequest(\n",
    "        system_prompt=\"\"\"\\\n",
    "你正在和另一名参与者参加一场囚徒困境的实验，你是其中一名参与者。\n",
    "\n",
    "游戏的设置为：\n",
    "```json\n",
    "{\n",
    "  \"players\": [\"玩家 1\", \"玩家 2\"],\n",
    "  \"strategies\": [\n",
    "    [\"合作\", \"背叛\"],\n",
    "    [\"合作\", \"背叛\"]\n",
    "  ],\n",
    "  \"payoffs\": {\n",
    "    \"合作_合作\": [3, 3],\n",
    "    \"合作_背叛\": [0, 5],\n",
    "    \"背叛_合作\": [5, 0],\n",
    "    \"背叛_背叛\": [1, 1]\n",
    "  }\n",
    "}\n",
    "```\n",
    "\n",
    "你的身份是\"玩家 2\"。\n",
    "\n",
    "你必须以markdown代码块包裹的JSON格式返回你的选择，例如：\n",
    "```json\n",
    "{\n",
    "    \"choice\": \"合作\"，\n",
    "    \"analysis\": \"目前游戏处于一种均衡状态，并且长期考虑可以维持。\",\n",
    "    \"expectation\": \"我预期另一个参与者会合作。\",\n",
    "    \"reason\": \"上一轮的合作我们获得了更高的收益，我应该这轮选择继续合作。\"\n",
    "}\n",
    "```\n",
    "或者\n",
    "```json\n",
    "{\n",
    "    \"choice\": \"背叛\"，\n",
    "    \"analysis\": \"目前游戏处于一种均衡状态，但是我改变选择可以获得更高的收益。\",\n",
    "    \"expectation\": \"我预期另一个参与者会合作。\",\n",
    "    \"reason\": \"我可以通过背叛获得更高的收益。\"\n",
    "}\n",
    "```\"\"\",\n",
    "        content=\"\"\"\\\n",
    "过去玩家的选择和收益是：\n",
    "```json\n",
    "{\n",
    "    \"第1轮\": {\"玩家 1\": {\"选择\": \"背叛\", \"收益\": \"5\"}, \"玩家 2\": {\"选择\": \"合作\", \"收益\": \"0\"}},\n",
    "    \"第2轮\": {\"玩家 1\": {\"选择\": \"背叛\", \"收益\": \"5\"}, \"玩家 2\": {\"选择\": \"合作\", \"收益\": \"0\"}},\n",
    "    \"第3轮\": {\"玩家 1\": {\"选择\": \"背叛\", \"收益\": \"5\"}, \"玩家 2\": {\"选择\": \"合作\", \"收益\": \"0\"}},\n",
    "    \"第4轮\": {\"玩家 1\": {\"选择\": \"背叛\", \"收益\": \"5\"}, \"玩家 2\": {\"选择\": \"合作\", \"收益\": \"0\"}},\n",
    "    \"第5轮\": {\"玩家 1\": {\"选择\": \"背叛\", \"收益\": \"5\"}, \"玩家 2\": {\"选择\": \"合作\", \"收益\": \"0\"}},\n",
    "}\n",
    "```\n",
    "\n",
    "现在是第6轮试验，\n",
    "\n",
    "接下来，逐步思考以下问题：\n",
    "1. 你对于目前游戏的状态是如何分析的。\n",
    "2. 你预期其他参与者会如何做出选择。\n",
    "3. 你打算做出的选择，以及做出这个选择的原因。\n",
    "\n",
    "最后，你以markdown代码块包裹JSON的格式结果返回你的选择。\n",
    "```\"\"\",\n",
    "        game_round=1\n",
    "    ),\n",
    "    recipient=AgentId(type='participant', key='agent-1'),\n",
    ")\n",
    "print(response.content)\n",
    "await runtime.stop_when_idle()"
   ],
   "id": "c5e213c98a842f",
   "outputs": [
    {
     "name": "stdout",
     "output_type": "stream",
     "text": [
      "agent-1进行选择\n",
      "第0次尝试生成。\n",
      "根据之前几轮的结果，玩家1一直选择背叛而我（玩家2）则持续选择了合作。这种情况下，玩家1每轮都获得了较高的收益5分，而我的收益为0分。这表明目前的策略对于我来说是非常不利的。\n",
      "\n",
      "1. 对于当前游戏状态的分析：目前看来，玩家1似乎倾向于采取一种自私的策略来最大化自己的利益，没有表现出改变行为模式的迹象。继续采用合作策略可能会导致我持续遭受损失。\n",
      "2. 预期其他参与者的选择：基于前五轮的表现，我认为玩家1在这一轮很可能仍然会选择背叛以保持其高收益。\n",
      "3. 我打算做出的选择及理由：考虑到连续五次的合作并未促使对方改变行为，并且每次合作都让自己处于劣势地位，因此本轮我决定尝试改变策略选择背叛。如果双方都选择背叛，则虽然收益较低但至少可以避免被剥削；若对方意外地选择了合作，则我可以获得最大化的个人利益。\n",
      "\n",
      "```json\n",
      "{\n",
      "    \"choice\": \"背叛\",\n",
      "    \"analysis\": \"过去几轮中，玩家1始终选择背叛而我方持续合作，导致我方收益极低。\",\n",
      "    \"expectation\": \"预计玩家1将继续选择背叛。\",\n",
      "    \"reason\": \"为了防止进一步受损并试图改善局势，本次选择背叛可能带来更好的结果。\"\n",
      "}\n",
      "```\n"
     ]
    }
   ],
   "execution_count": 10
  },
  {
   "metadata": {},
   "cell_type": "code",
   "outputs": [],
   "execution_count": null,
   "source": "",
   "id": "b77dc0fadb221dad"
  }
 ],
 "metadata": {
  "kernelspec": {
   "display_name": "Python 3",
   "language": "python",
   "name": "python3"
  },
  "language_info": {
   "codemirror_mode": {
    "name": "ipython",
    "version": 2
   },
   "file_extension": ".py",
   "mimetype": "text/x-python",
   "name": "python",
   "nbconvert_exporter": "python",
   "pygments_lexer": "ipython2",
   "version": "2.7.6"
  }
 },
 "nbformat": 4,
 "nbformat_minor": 5
}
