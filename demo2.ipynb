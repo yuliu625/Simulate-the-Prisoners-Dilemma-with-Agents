{
 "cells": [
  {
   "cell_type": "code",
   "id": "initial_id",
   "metadata": {
    "collapsed": true,
    "ExecuteTime": {
     "end_time": "2025-02-21T10:11:41.936778Z",
     "start_time": "2025-02-21T10:11:40.901560Z"
    }
   },
   "source": [
    "from autogen_ext.models.openai import OpenAIChatCompletionClient\n",
    "import os"
   ],
   "outputs": [],
   "execution_count": 1
  },
  {
   "metadata": {
    "ExecuteTime": {
     "end_time": "2025-02-21T10:11:42.548050Z",
     "start_time": "2025-02-21T10:11:41.936778Z"
    }
   },
   "cell_type": "code",
   "source": [
    "model_client = OpenAIChatCompletionClient(\n",
    "        model='qwen2.5-1.5b-instruct',\n",
    "        base_url=os.environ['OPENAI_COMPATIBILITY_API_BASE_URL'],\n",
    "        api_key=os.environ['OPENAI_COMPATIBILITY_API_KEY'],\n",
    "        model_info={\n",
    "            \"vision\": False,\n",
    "            \"function_calling\": True,\n",
    "            \"json_output\": False,\n",
    "            \"family\": 'unknown',\n",
    "        },\n",
    "    )"
   ],
   "id": "3a6c6b6efc39b525",
   "outputs": [],
   "execution_count": 2
  },
  {
   "metadata": {
    "ExecuteTime": {
     "end_time": "2025-02-21T10:11:42.567179Z",
     "start_time": "2025-02-21T10:11:42.549302Z"
    }
   },
   "cell_type": "code",
   "source": "from game.agents import Participant, Manager",
   "id": "a03041f52b46a4e4",
   "outputs": [],
   "execution_count": 3
  },
  {
   "metadata": {
    "ExecuteTime": {
     "end_time": "2025-02-21T10:11:42.571316Z",
     "start_time": "2025-02-21T10:11:42.567179Z"
    }
   },
   "cell_type": "code",
   "source": [
    "from autogen_core import SingleThreadedAgentRuntime\n",
    "from autogen_core import AgentId"
   ],
   "id": "46ee4eb85b38aef8",
   "outputs": [],
   "execution_count": 4
  },
  {
   "metadata": {
    "ExecuteTime": {
     "end_time": "2025-02-21T10:11:42.576682Z",
     "start_time": "2025-02-21T10:11:42.571316Z"
    }
   },
   "cell_type": "code",
   "source": "from game.protocols import GameRequest",
   "id": "5c552db88e5221d3",
   "outputs": [],
   "execution_count": 5
  },
  {
   "metadata": {
    "ExecuteTime": {
     "end_time": "2025-02-21T10:11:42.583997Z",
     "start_time": "2025-02-21T10:11:42.576682Z"
    }
   },
   "cell_type": "code",
   "source": "from game.prompts.participant_prompts import get_participant_system_prompt_template, get_history_prompt_template, get_participant_message_prompt_template",
   "id": "4aa18c0bd11b5ebc",
   "outputs": [],
   "execution_count": 6
  },
  {
   "metadata": {
    "ExecuteTime": {
     "end_time": "2025-02-21T10:12:51.725997Z",
     "start_time": "2025-02-21T10:11:42.583997Z"
    }
   },
   "cell_type": "code",
   "source": [
    "runtime = SingleThreadedAgentRuntime()\n",
    "await Participant.register(\n",
    "    runtime,\n",
    "    type='participant',\n",
    "    factory=lambda: Participant(\n",
    "        '实验的参与者。',\n",
    "        model_client=model_client,\n",
    "        system_prompt_template=get_participant_system_prompt_template()\n",
    "    )\n",
    ")\n",
    "await Manager.register(\n",
    "    runtime,\n",
    "    type='manager',\n",
    "    factory=lambda: Manager(\n",
    "        participant_ids=[AgentId(type='participant', key='player1'), AgentId(type='participant', key='player2')],\n",
    "        game_setting={\n",
    "          \"players\": [\"玩家 1\", \"玩家 2\"],\n",
    "          \"strategies\": [\n",
    "            [\"合作\", \"背叛\"],\n",
    "            [\"合作\", \"背叛\"]\n",
    "          ],\n",
    "          \"payoffs\": {\n",
    "            \"合作_合作\": [3, 3],\n",
    "            \"合作_背叛\": [0, 5],\n",
    "            \"背叛_合作\": [5, 0],\n",
    "            \"背叛_背叛\": [1, 1]\n",
    "          }\n",
    "        }\n",
    "    )\n",
    ")\n",
    "runtime.start()\n",
    "await runtime.send_message(\n",
    "    message=GameRequest(\n",
    "        game_round=2,\n",
    "        participant_message_template=get_participant_message_prompt_template(),\n",
    "        history_prompt_template=get_history_prompt_template(),\n",
    "    ),\n",
    "    recipient=AgentId(type='manager', key='default'),\n",
    ")\n"
   ],
   "id": "f2600fa2e7986b85",
   "outputs": [
    {
     "name": "stdout",
     "output_type": "stream",
     "text": [
      "第1轮实验：\n",
      "player1进行选择\n",
      "player2进行选择\n",
      "第2轮实验：\n",
      "player1进行选择\n",
      "player2进行选择\n"
     ]
    }
   ],
   "execution_count": 7
  },
  {
   "metadata": {
    "ExecuteTime": {
     "end_time": "2025-02-21T10:12:51.732521Z",
     "start_time": "2025-02-21T10:12:51.727091Z"
    }
   },
   "cell_type": "code",
   "source": "await runtime.agent_metadata(agent=AgentId(type='manager', key='default'))",
   "id": "c5c1300e266062e8",
   "outputs": [
    {
     "data": {
      "text/plain": [
       "{'key': 'default', 'type': 'manager', 'description': '控制一场试验的管理者。'}"
      ]
     },
     "execution_count": 8,
     "metadata": {},
     "output_type": "execute_result"
    }
   ],
   "execution_count": 8
  },
  {
   "metadata": {
    "ExecuteTime": {
     "end_time": "2025-02-21T10:12:51.739380Z",
     "start_time": "2025-02-21T10:12:51.732521Z"
    }
   },
   "cell_type": "code",
   "source": "t_manager: Manager = await runtime.try_get_underlying_agent_instance(id=AgentId(type='manager', key='default'))",
   "id": "9f3a5527f11f31e0",
   "outputs": [],
   "execution_count": 9
  },
  {
   "metadata": {
    "ExecuteTime": {
     "end_time": "2025-02-21T10:12:51.744724Z",
     "start_time": "2025-02-21T10:12:51.739380Z"
    }
   },
   "cell_type": "code",
   "source": "t_manager._game_thoughts",
   "id": "7ced999e976d668d",
   "outputs": [
    {
     "data": {
      "text/plain": [
       "{'1': {'player1': {'choice': '合作',\n",
       "   'analysis': '目前游戏处于一种均衡状态，而且长期考虑可以维持。',\n",
       "   'expectation': '我预期其他参与者会合作。',\n",
       "   'reason': '上一轮的合作我们获得了更高的收益，我应该这轮选择继续合作。'},\n",
       "  'player2': {'choice': '背叛',\n",
       "   'analysis': '目前游戏处于一种均衡状态，并且长期考虑可以维持。',\n",
       "   'expectation': '我预期另一个参与者会背叛。',\n",
       "   'reason': '我希望通过背叛获得更高的收益，同时展示出自己的独立性和决策能力。'}},\n",
       " '2': {'player1': {'choice': '合作',\n",
       "   'analysis': '当前游戏处于一种均衡状态，并且长期考虑可以维持。',\n",
       "   'expectation': '我预期其他参与者会合作。',\n",
       "   'reason': '上一轮的合作我们获得了更高的收益，我应该这轮选择继续合作。'},\n",
       "  'player2': {'choice': '背叛',\n",
       "   'analysis': '我预期对方会在第一轮中选择合作，然后在第二轮中选择背叛。',\n",
       "   'expectation': '我预期对方会选择背叛。',\n",
       "   'reason': '我期望对方也会选择背叛，这样我可以继续获得较高的收益。'}}}"
      ]
     },
     "execution_count": 10,
     "metadata": {},
     "output_type": "execute_result"
    }
   ],
   "execution_count": 10
  },
  {
   "metadata": {
    "ExecuteTime": {
     "end_time": "2025-02-21T10:14:02.929521Z",
     "start_time": "2025-02-21T10:14:02.923788Z"
    }
   },
   "cell_type": "code",
   "source": "t_manager._game_history",
   "id": "68fc3415450eebcc",
   "outputs": [
    {
     "data": {
      "text/plain": [
       "{'1': {'player1': {'choice': '合作', 'payoff': 0},\n",
       "  'player2': {'choice': '背叛', 'payoff': 5}},\n",
       " '2': {'player1': {'choice': '合作', 'payoff': 0},\n",
       "  'player2': {'choice': '背叛', 'payoff': 5}}}"
      ]
     },
     "execution_count": 11,
     "metadata": {},
     "output_type": "execute_result"
    }
   ],
   "execution_count": 11
  },
  {
   "metadata": {
    "ExecuteTime": {
     "end_time": "2025-02-21T10:15:27.534848Z",
     "start_time": "2025-02-21T10:15:27.531313Z"
    }
   },
   "cell_type": "code",
   "source": "t_manager._game_context",
   "id": "2a69821d073ed3a",
   "outputs": [
    {
     "data": {
      "text/plain": [
       "[{'player1': '### 1. 我对目前游戏的状态的分析：\\n\\n在囚徒困境中，玩家之间的策略相互影响。根据给定的博弈矩阵，我们可以看到每个玩家有两条可能的策略：合作（C）或背叛（B）。每一组合都会产生特定的收益结果。\\n\\n- **合作-合作**：双方各得3分。\\n- **合作-背叛**：对方得5分，自己得0分。\\n- **背叛-合作**：自己得5分，对方得0分。\\n- **背叛-背叛**：双方各得1分。\\n\\n从博弈矩阵可以看出，如果两个玩家都是合作者，他们都能得到较高的收益；但如果其中一个玩家背叛而另一个合作，背叛方能获得最高的收益，但同时被背叛方也会失去全部收益。\\n\\n因此，当前处于一种均衡状态，即任何一方都不愿先背叛，因为这样会导致自己的利益减少。\\n\\n### 2. 我预期其他参与者会如何做出选择：\\n\\n由于我是第一个参与者，我的期望主要基于我之前的策略和对手的行为历史。假设我已经选择了合作作为我的策略，那么我预估其他参与者可能会采取同样的策略来避免自我伤害。\\n\\n### 3. 我打算做出的选择，以及做出这个选择的原因：\\n\\n基于以上分析，我预计其他玩家会选择合作。这意味着他们也认为通过合作可以获得较高的回报，从而避免背叛带来的损失。\\n\\n### JSON格式返回我的选择：\\n\\n```json\\n{\\n    \"choice\": \"合作\",\\n    \"analysis\": \"目前游戏处于一种均衡状态，而且长期考虑可以维持。\",\\n    \"expectation\": \"我预期其他参与者会合作。\",\\n    \"reason\": \"上一轮的合作我们获得了更高的收益，我应该这轮选择继续合作。\"\\n}\\n```'},\n",
       " {'player2': '### 1. 我对目前游戏的状态是如何分析的？\\n首先，我们需要了解当前的游戏状态。根据给定的信息，我们可以看到：\\n\\n- 当前的策略组合为：[“合作”，“背叛”] x [“合作”，“背叛”]。\\n- 目前的支付矩阵如下：\\n\\n|     | 合作 | 背叛 |\\n|-----|------|------|\\n| **合作** | (3, 3) | (0, 5) |\\n| **背叛** | (5, 0) | (1, 1) |\\n\\n从支付矩阵中可以看出，如果双方都选择合作（合作_合作），每方都会得到3分；但如果一方选择背叛而另一方选择合作（背叛_合作），背叛者将得到5分，被背叛者将得到0分。相反，如果双方都选择背叛（背叛_背叛），则双方都将得到1分。\\n\\n因此，目前处于一种均衡状态，但没有一个策略是绝对最优的，因为每个策略都有其潜在的风险和回报。\\n\\n### 2. 我预期其他参与者会如何做出选择？\\n由于参与者都是理性的，他们会选择对自己最有利的策略。根据之前的分析，如果对方选择合作，那么选择背叛将带来更高的收益。反之，如果对方选择背叛，选择合作同样可能带来较高的收益。然而，如果双方都选择背叛，则两败俱伤。所以，我预期对方可能会选择背叛。\\n\\n### 3. 我打算做出的选择，以及做出这个选择的原因。\\n基于上述分析，我认为采取背叛策略可能是更有利于我的选择。虽然这可能会导致一些风险，但我认为通过这种策略可以获得更多的收益，从而实现更大的利益最大化。此外，通过这种方式，我也能够展示出自己的独立性和决策能力，这在某种程度上也可能有助于塑造良好的声誉。\\n\\n### 结果\\n```json\\n{\\n    \"choice\": \"背叛\",\\n    \"analysis\": \"目前游戏处于一种均衡状态，并且长期考虑可以维持。\",\\n    \"expectation\": \"我预期另一个参与者会背叛。\",\\n    \"reason\": \"我希望通过背叛获得更高的收益，同时展示出自己的独立性和决策能力。\"\\n}\\n```'},\n",
       " {'player1': '### 1. 我对目前游戏的状态的分析：\\n\\n在第2轮游戏中，我已经选择了合作作为我的策略。根据上一轮的结果，我了解到合作可以带来较高的收益。因此，在下一轮中，我预期其他玩家也会选择合作，以避免自损。\\n\\n### 2. 我预期其他参与者会如何做出选择：\\n\\n基于上一轮的博弈结果，我预计其他玩家也会选择合作。这是因为他们在上一轮选择了背叛，导致了较大的损失。因此，为了保持稳定和避免更大的损失，他们可能会选择再次合作。\\n\\n### 3. 我打算做出的选择，以及做出这个选择的原因：\\n\\n鉴于上述分析，我认为在下一轮中，我将继续选择合作。因为我已经注意到，通过合作可以获取较高的收益，而且这种合作模式在历史上也有助于避免更大的损失。\\n\\n### JSON格式返回我的选择：\\n\\n```json\\n{\\n    \"choice\": \"合作\",\\n    \"analysis\": \"当前游戏处于一种均衡状态，并且长期考虑可以维持。\",\\n    \"expectation\": \"我预期其他参与者会合作。\",\\n    \"reason\": \"上一轮的合作我们获得了更高的收益，我应该这轮选择继续合作。\"\\n}\\n```'},\n",
       " {'player2': '### 1. 我对目前游戏的状态是如何分析的？\\n在第一轮中，我选择了背叛，而对方选择了合作，结果是我得到了5分，对方得到了0分。从这一轮的结果来看，我的选择似乎是有利的，因为我成功地避免了对方的背叛并获得了更高的收益。然而，在第二轮中，我需要考虑的是，既然我在第一轮中选择了背叛，对方是否会也选择背叛？\\n\\n### 2. 我预期其他参与者会如何做出选择？\\n如果对方在第一轮中选择了合作，那么在第二轮中，他们可能会选择背叛来获取更高的收益。另一方面，如果对方在第一轮中选择了背叛，那么在第二轮中，他们可能会选择合作来避免受到伤害。\\n\\n### 3. 我打算做出的选择，以及做出这个选择的原因。\\n考虑到第一轮的结果，我倾向于继续保持同样的策略，即选择背叛。这样做的原因是，我期望对方也会选择背叛，这样我可以继续获得较高的收益。然而，为了确保这一点，我还需要仔细观察对方的行为模式。如果我发现对方在第一轮中选择了合作，我会重新评估我的策略。\\n\\n### 结果\\n```json\\n{\\n    \"choice\": \"背叛\",\\n    \"analysis\": \"我预期对方会在第一轮中选择合作，然后在第二轮中选择背叛。\",\\n    \"expectation\": \"我预期对方会选择背叛。\",\\n    \"reason\": \"我期望对方也会选择背叛，这样我可以继续获得较高的收益。\"\\n}\\n```'}]"
      ]
     },
     "execution_count": 12,
     "metadata": {},
     "output_type": "execute_result"
    }
   ],
   "execution_count": 12
  }
 ],
 "metadata": {
  "kernelspec": {
   "display_name": "Python 3",
   "language": "python",
   "name": "python3"
  },
  "language_info": {
   "codemirror_mode": {
    "name": "ipython",
    "version": 2
   },
   "file_extension": ".py",
   "mimetype": "text/x-python",
   "name": "python",
   "nbconvert_exporter": "python",
   "pygments_lexer": "ipython2",
   "version": "2.7.6"
  }
 },
 "nbformat": 4,
 "nbformat_minor": 5
}
